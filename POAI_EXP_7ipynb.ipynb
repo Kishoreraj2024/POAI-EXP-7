{
  "nbformat": 4,
  "nbformat_minor": 0,
  "metadata": {
    "colab": {
      "provenance": [],
      "authorship_tag": "ABX9TyMv+K6sHAj7o2a31A8I4i98",
      "include_colab_link": true
    },
    "kernelspec": {
      "name": "python3",
      "display_name": "Python 3"
    },
    "language_info": {
      "name": "python"
    }
  },
  "cells": [
    {
      "cell_type": "markdown",
      "metadata": {
        "id": "view-in-github",
        "colab_type": "text"
      },
      "source": [
        "<a href=\"https://colab.research.google.com/github/Kishoreraj2024/POAI-EXP-7/blob/main/POAI_EXP_7ipynb.ipynb\" target=\"_parent\"><img src=\"https://colab.research.google.com/assets/colab-badge.svg\" alt=\"Open In Colab\"/></a>"
      ]
    },
    {
      "cell_type": "code",
      "source": [
        "# Knowledge Base (Rules in IF-THEN format)\n",
        "knowledge_base = {\n",
        "    \"flu\": [[\"cough\", \"fever\"]],\n",
        "    \"fever\": [[\"sore_throat\"]],\n",
        "}\n",
        "\n",
        "# Known facts\n",
        "facts = {\"sore_throat\", \"cough\"}\n",
        "\n",
        "# Backward chaining function\n",
        "def backward_chaining(goal):\n",
        "    if goal in facts:  # If the goal is a known fact, return True\n",
        "        return True\n",
        "    if goal in knowledge_base:  # If the goal has rules in KB\n",
        "        for conditions in knowledge_base[goal]:  # Check each rule\n",
        "            if all(backward_chaining(cond) for cond in conditions):  # Recursively verify all conditions\n",
        "                return True\n",
        "    return False  # If no rule or fact supports the goal, return False\n",
        "\n",
        "# Query: Does the patient have flu?\n",
        "query = \"flu\"\n",
        "\n",
        "if backward_chaining(query):\n",
        "    print(f\"The patient is diagnosed with {query}.\")\n",
        "else:\n",
        "    print(f\"The patient does NOT have {query}.\")\n"
      ],
      "metadata": {
        "colab": {
          "base_uri": "https://localhost:8080/"
        },
        "id": "F95roD3z80g8",
        "outputId": "9c03ba2f-9af4-4d06-8ac4-b864ea1c868b"
      },
      "execution_count": 11,
      "outputs": [
        {
          "output_type": "stream",
          "name": "stdout",
          "text": [
            "The patient is diagnosed with flu.\n"
          ]
        }
      ]
    }
  ]
}